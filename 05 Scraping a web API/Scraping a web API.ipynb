{
 "cells": [
  {
   "attachments": {},
   "cell_type": "markdown",
   "metadata": {},
   "source": [
    "# Python script to extract data from data.gov.sg web API\n",
    "\n",
    "* Extracts the relative humidity readings across Singapore between a given time period and loads it into a data frame using Python\n",
    "* Exports the data to CSV files\n",
    "* URL where the data is extracted from: https://data.gov.sg/dataset/realtime-weather-readings?resource_id=59eb2883-2ceb-4d16-85f0-7e3a3176ef46\n",
    "\n"
   ]
  },
  {
   "cell_type": "code",
   "execution_count": 1,
   "metadata": {},
   "outputs": [],
   "source": [
    "import requests\n",
    "import json\n",
    "import pandas as pd\n",
    "import numpy as np\n",
    "import datetime as date\n",
    "import os\n"
   ]
  },
  {
   "attachments": {},
   "cell_type": "markdown",
   "metadata": {},
   "source": [
    "Asks the user to input the start and end dates of the time period required in the format 'yyyy-mm-dd':"
   ]
  },
  {
   "cell_type": "code",
   "execution_count": 2,
   "metadata": {},
   "outputs": [],
   "source": [
    "while True:\n",
    "    start_date = input(\"Enter a start date in the format 'yyyy-mm-dd':\")\n",
    "    if len(start_date) != 10:\n",
    "        continue\n",
    "    elif int(start_date[:4]) in range(2024) and int(start_date[5:7]) in range(13) and int(start_date[8:]) in range(32):\n",
    "        break\n",
    "    else:\n",
    "        continue\n",
    "\n",
    "while True:\n",
    "    end_date = input(\"Enter a end date in the format 'yyyy-mm-dd':\")\n",
    "    if len(end_date) != 10:\n",
    "        continue\n",
    "    elif not(int(end_date[:4]) in range(2024) and int(end_date[5:7]) in range(13) and int(end_date[8:]) in range(32)):\n",
    "        continue\n",
    "    elif date.datetime.strptime(start_date, '%Y-%m-%d').date() <= date.datetime.strptime(end_date, '%Y-%m-%d').date():\n",
    "        break\n",
    "    else:\n",
    "        continue"
   ]
  },
  {
   "attachments": {},
   "cell_type": "markdown",
   "metadata": {},
   "source": [
    "Make a request and extract data from the web API:"
   ]
  },
  {
   "cell_type": "code",
   "execution_count": 3,
   "metadata": {},
   "outputs": [],
   "source": [
    "#Create a list of dates from the input time period\n",
    "datelist = pd.period_range(start=start_date, end=end_date)\n",
    "\n",
    "#dictionary for readings\n",
    "readings = {\"timestamp\": [], \"station_id\": [], \"value\": []}\n",
    "#dictionary for stations\n",
    "stations = {\"id\": [], \"device_id\": [], \"name\": [], \"latitude\": [], \"longitude\": []}\n",
    "\n",
    "for date in datelist:\n",
    "    #pull data from api for specified time period\n",
    "    response_API = requests.get(\"https://api.data.gov.sg/v1/environment/relative-humidity?date=\" + str(date))\n",
    "    data = response_API.text\n",
    "    parse_json = json.loads(data)\n",
    "\n",
    "    #Add readings to dictionary\n",
    "    for i in parse_json[\"items\"]:\n",
    "        for j in i[\"readings\"]:\n",
    "            readings[\"timestamp\"].append(i[\"timestamp\"])\n",
    "            readings[\"station_id\"].append(j[\"station_id\"])\n",
    "            readings[\"value\"].append(j[\"value\"])\n",
    "\n",
    "    #Add stations to dictionary\n",
    "    for x in parse_json[\"metadata\"][\"stations\"]:\n",
    "        stations[\"id\"].append(x[\"id\"])\n",
    "        stations[\"device_id\"].append(x[\"device_id\"])\n",
    "        stations[\"name\"].append(x[\"name\"])\n",
    "        stations[\"latitude\"].append(x[\"location\"][\"latitude\"])\n",
    "        stations[\"longitude\"].append(x[\"location\"][\"longitude\"])\n"
   ]
  },
  {
   "attachments": {},
   "cell_type": "markdown",
   "metadata": {},
   "source": [
    "Stores the data into data frames using pandas:"
   ]
  },
  {
   "cell_type": "code",
   "execution_count": 4,
   "metadata": {},
   "outputs": [],
   "source": [
    "#create a dataframe from the dictionary\n",
    "readings_df = pd.DataFrame(readings)\n",
    "readings_df.index = np.arange(1, len(readings_df) + 1)\n",
    "#create a dataframe from the dictionary\n",
    "stations_df = pd.DataFrame(stations)\n",
    "stations_df.index = np.arange(1, len(stations_df) + 1)"
   ]
  },
  {
   "attachments": {},
   "cell_type": "markdown",
   "metadata": {},
   "source": [
    "View the data frames:"
   ]
  },
  {
   "cell_type": "code",
   "execution_count": 5,
   "metadata": {},
   "outputs": [
    {
     "data": {
      "text/html": [
       "<div>\n",
       "<style scoped>\n",
       "    .dataframe tbody tr th:only-of-type {\n",
       "        vertical-align: middle;\n",
       "    }\n",
       "\n",
       "    .dataframe tbody tr th {\n",
       "        vertical-align: top;\n",
       "    }\n",
       "\n",
       "    .dataframe thead th {\n",
       "        text-align: right;\n",
       "    }\n",
       "</style>\n",
       "<table border=\"1\" class=\"dataframe\">\n",
       "  <thead>\n",
       "    <tr style=\"text-align: right;\">\n",
       "      <th></th>\n",
       "      <th>timestamp</th>\n",
       "      <th>station_id</th>\n",
       "      <th>value</th>\n",
       "    </tr>\n",
       "  </thead>\n",
       "  <tbody>\n",
       "    <tr>\n",
       "      <th>1</th>\n",
       "      <td>2022-12-01T00:01:00+08:00</td>\n",
       "      <td>S109</td>\n",
       "      <td>91.3</td>\n",
       "    </tr>\n",
       "    <tr>\n",
       "      <th>2</th>\n",
       "      <td>2022-12-01T00:01:00+08:00</td>\n",
       "      <td>S50</td>\n",
       "      <td>97.3</td>\n",
       "    </tr>\n",
       "    <tr>\n",
       "      <th>3</th>\n",
       "      <td>2022-12-01T00:01:00+08:00</td>\n",
       "      <td>S107</td>\n",
       "      <td>87.0</td>\n",
       "    </tr>\n",
       "    <tr>\n",
       "      <th>4</th>\n",
       "      <td>2022-12-01T00:01:00+08:00</td>\n",
       "      <td>S43</td>\n",
       "      <td>88.6</td>\n",
       "    </tr>\n",
       "    <tr>\n",
       "      <th>5</th>\n",
       "      <td>2022-12-01T00:01:00+08:00</td>\n",
       "      <td>S108</td>\n",
       "      <td>99.4</td>\n",
       "    </tr>\n",
       "    <tr>\n",
       "      <th>6</th>\n",
       "      <td>2022-12-01T00:01:00+08:00</td>\n",
       "      <td>S44</td>\n",
       "      <td>92.9</td>\n",
       "    </tr>\n",
       "    <tr>\n",
       "      <th>7</th>\n",
       "      <td>2022-12-01T00:01:00+08:00</td>\n",
       "      <td>S121</td>\n",
       "      <td>98.6</td>\n",
       "    </tr>\n",
       "    <tr>\n",
       "      <th>8</th>\n",
       "      <td>2022-12-01T00:01:00+08:00</td>\n",
       "      <td>S111</td>\n",
       "      <td>87.9</td>\n",
       "    </tr>\n",
       "    <tr>\n",
       "      <th>9</th>\n",
       "      <td>2022-12-01T00:01:00+08:00</td>\n",
       "      <td>S102</td>\n",
       "      <td>84.3</td>\n",
       "    </tr>\n",
       "    <tr>\n",
       "      <th>10</th>\n",
       "      <td>2022-12-01T00:01:00+08:00</td>\n",
       "      <td>S60</td>\n",
       "      <td>86.9</td>\n",
       "    </tr>\n",
       "  </tbody>\n",
       "</table>\n",
       "</div>"
      ],
      "text/plain": [
       "                    timestamp station_id  value\n",
       "1   2022-12-01T00:01:00+08:00       S109   91.3\n",
       "2   2022-12-01T00:01:00+08:00        S50   97.3\n",
       "3   2022-12-01T00:01:00+08:00       S107   87.0\n",
       "4   2022-12-01T00:01:00+08:00        S43   88.6\n",
       "5   2022-12-01T00:01:00+08:00       S108   99.4\n",
       "6   2022-12-01T00:01:00+08:00        S44   92.9\n",
       "7   2022-12-01T00:01:00+08:00       S121   98.6\n",
       "8   2022-12-01T00:01:00+08:00       S111   87.9\n",
       "9   2022-12-01T00:01:00+08:00       S102   84.3\n",
       "10  2022-12-01T00:01:00+08:00        S60   86.9"
      ]
     },
     "execution_count": 5,
     "metadata": {},
     "output_type": "execute_result"
    }
   ],
   "source": [
    "readings_df.head(10)"
   ]
  },
  {
   "cell_type": "code",
   "execution_count": 6,
   "metadata": {},
   "outputs": [
    {
     "data": {
      "text/html": [
       "<div>\n",
       "<style scoped>\n",
       "    .dataframe tbody tr th:only-of-type {\n",
       "        vertical-align: middle;\n",
       "    }\n",
       "\n",
       "    .dataframe tbody tr th {\n",
       "        vertical-align: top;\n",
       "    }\n",
       "\n",
       "    .dataframe thead th {\n",
       "        text-align: right;\n",
       "    }\n",
       "</style>\n",
       "<table border=\"1\" class=\"dataframe\">\n",
       "  <thead>\n",
       "    <tr style=\"text-align: right;\">\n",
       "      <th></th>\n",
       "      <th>id</th>\n",
       "      <th>device_id</th>\n",
       "      <th>name</th>\n",
       "      <th>latitude</th>\n",
       "      <th>longitude</th>\n",
       "    </tr>\n",
       "  </thead>\n",
       "  <tbody>\n",
       "    <tr>\n",
       "      <th>1</th>\n",
       "      <td>S109</td>\n",
       "      <td>S109</td>\n",
       "      <td>Ang Mo Kio Avenue 5</td>\n",
       "      <td>1.37640</td>\n",
       "      <td>103.84920</td>\n",
       "    </tr>\n",
       "    <tr>\n",
       "      <th>2</th>\n",
       "      <td>S50</td>\n",
       "      <td>S50</td>\n",
       "      <td>Clementi Road</td>\n",
       "      <td>1.33370</td>\n",
       "      <td>103.77680</td>\n",
       "    </tr>\n",
       "    <tr>\n",
       "      <th>3</th>\n",
       "      <td>S107</td>\n",
       "      <td>S107</td>\n",
       "      <td>East Coast Parkway</td>\n",
       "      <td>1.31350</td>\n",
       "      <td>103.96250</td>\n",
       "    </tr>\n",
       "    <tr>\n",
       "      <th>4</th>\n",
       "      <td>S43</td>\n",
       "      <td>S43</td>\n",
       "      <td>Kim Chuan Road</td>\n",
       "      <td>1.33990</td>\n",
       "      <td>103.88780</td>\n",
       "    </tr>\n",
       "    <tr>\n",
       "      <th>5</th>\n",
       "      <td>S108</td>\n",
       "      <td>S108</td>\n",
       "      <td>Marina Gardens Drive</td>\n",
       "      <td>1.27990</td>\n",
       "      <td>103.87030</td>\n",
       "    </tr>\n",
       "    <tr>\n",
       "      <th>6</th>\n",
       "      <td>S44</td>\n",
       "      <td>S44</td>\n",
       "      <td>Nanyang Avenue</td>\n",
       "      <td>1.34583</td>\n",
       "      <td>103.68166</td>\n",
       "    </tr>\n",
       "    <tr>\n",
       "      <th>7</th>\n",
       "      <td>S121</td>\n",
       "      <td>S121</td>\n",
       "      <td>Old Choa Chu Kang Road</td>\n",
       "      <td>1.37288</td>\n",
       "      <td>103.72244</td>\n",
       "    </tr>\n",
       "    <tr>\n",
       "      <th>8</th>\n",
       "      <td>S111</td>\n",
       "      <td>S111</td>\n",
       "      <td>Scotts Road</td>\n",
       "      <td>1.31055</td>\n",
       "      <td>103.83650</td>\n",
       "    </tr>\n",
       "    <tr>\n",
       "      <th>9</th>\n",
       "      <td>S102</td>\n",
       "      <td>S102</td>\n",
       "      <td>Semakau Landfill</td>\n",
       "      <td>1.18900</td>\n",
       "      <td>103.76800</td>\n",
       "    </tr>\n",
       "    <tr>\n",
       "      <th>10</th>\n",
       "      <td>S60</td>\n",
       "      <td>S60</td>\n",
       "      <td>Sentosa</td>\n",
       "      <td>1.25000</td>\n",
       "      <td>103.82790</td>\n",
       "    </tr>\n",
       "  </tbody>\n",
       "</table>\n",
       "</div>"
      ],
      "text/plain": [
       "      id device_id                    name  latitude  longitude\n",
       "1   S109      S109     Ang Mo Kio Avenue 5   1.37640  103.84920\n",
       "2    S50       S50           Clementi Road   1.33370  103.77680\n",
       "3   S107      S107      East Coast Parkway   1.31350  103.96250\n",
       "4    S43       S43          Kim Chuan Road   1.33990  103.88780\n",
       "5   S108      S108    Marina Gardens Drive   1.27990  103.87030\n",
       "6    S44       S44          Nanyang Avenue   1.34583  103.68166\n",
       "7   S121      S121  Old Choa Chu Kang Road   1.37288  103.72244\n",
       "8   S111      S111             Scotts Road   1.31055  103.83650\n",
       "9   S102      S102        Semakau Landfill   1.18900  103.76800\n",
       "10   S60       S60                 Sentosa   1.25000  103.82790"
      ]
     },
     "execution_count": 6,
     "metadata": {},
     "output_type": "execute_result"
    }
   ],
   "source": [
    "stations_df.head(10)"
   ]
  },
  {
   "attachments": {},
   "cell_type": "markdown",
   "metadata": {},
   "source": [
    "Export the dataframes to CSV files:"
   ]
  },
  {
   "cell_type": "code",
   "execution_count": null,
   "metadata": {},
   "outputs": [],
   "source": [
    "readings_df.to_csv(os.getcwd() + '\\\\readings_df' + f'_{start_date}.csv', index=True, header=True)\n",
    "stations_df.to_csv(os.getcwd() + '\\\\stations_df' + f'_{start_date}.csv', index=True, header=True)\n",
    "print(f\"Export completed! Files are in the path '{os.getcwd()}'.\")"
   ]
  }
 ],
 "metadata": {
  "kernelspec": {
   "display_name": "Python 3",
   "language": "python",
   "name": "python3"
  },
  "language_info": {
   "codemirror_mode": {
    "name": "ipython",
    "version": 3
   },
   "file_extension": ".py",
   "mimetype": "text/x-python",
   "name": "python",
   "nbconvert_exporter": "python",
   "pygments_lexer": "ipython3",
   "version": "3.11.1"
  },
  "orig_nbformat": 4,
  "vscode": {
   "interpreter": {
    "hash": "372598bb3a76118db91813843afe89c8df3fb3399f7ad048ff10a846cae40b20"
   }
  }
 },
 "nbformat": 4,
 "nbformat_minor": 2
}
