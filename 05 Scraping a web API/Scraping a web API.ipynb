{
 "cells": [
  {
   "attachments": {},
   "cell_type": "markdown",
   "metadata": {},
   "source": [
    "# Python script to extract data from data.gov.sg web API\n",
    "\n",
    "* Extracts the relative humidity across Singapore between a given time period and loads it into a data frame using Python\n",
    "* Exports the data to CSV \n",
    "* URL: https://data.gov.sg/dataset/realtime-weather-readings?resource_id=59eb2883-2ceb-4d16-85f0-7e3a3176ef46\n",
    "\n"
   ]
  },
  {
   "cell_type": "code",
   "execution_count": 9,
   "metadata": {},
   "outputs": [],
   "source": [
    "import requests\n",
    "import json\n",
    "import pandas as pd\n",
    "import numpy as np\n",
    "import datetime as date\n",
    "import os\n"
   ]
  },
  {
   "attachments": {},
   "cell_type": "markdown",
   "metadata": {},
   "source": [
    "User to input the start and end dates of the time period:"
   ]
  },
  {
   "cell_type": "code",
   "execution_count": 4,
   "metadata": {},
   "outputs": [],
   "source": [
    "while True:\n",
    "    start_date = input(\"Enter a start date in the format 'yyyy-mm-dd':\")\n",
    "    if len(start_date) != 10:\n",
    "        continue\n",
    "    elif int(start_date[:4]) in range(2024) and int(start_date[5:7]) in range(13) and int(start_date[8:]) in range(32):\n",
    "        break\n",
    "    else:\n",
    "        continue\n",
    "\n",
    "while True:\n",
    "    end_date = input(\"Enter a end date in the format 'yyyy-mm-dd':\")\n",
    "    if len(end_date) != 10:\n",
    "        continue\n",
    "    elif not(int(end_date[:4]) in range(2024) and int(end_date[5:7]) in range(13) and int(end_date[8:]) in range(32)):\n",
    "        continue\n",
    "    elif date.datetime.strptime(start_date, '%Y-%m-%d').date() <= date.datetime.strptime(end_date, '%Y-%m-%d').date():\n",
    "        break\n",
    "    else:\n",
    "        continue"
   ]
  },
  {
   "attachments": {},
   "cell_type": "markdown",
   "metadata": {},
   "source": [
    "Extract data from the web API:"
   ]
  },
  {
   "cell_type": "code",
   "execution_count": 5,
   "metadata": {},
   "outputs": [],
   "source": [
    "#Create a list of dates from the input time period\n",
    "datelist = pd.period_range(start=start_date, end=end_date)\n",
    "\n",
    "#dictionary for readings\n",
    "readings = {\"timestamp\": [], \"station_id\": [], \"value\": []}\n",
    "#dictionary for stations\n",
    "stations = {\"id\": [], \"device_id\": [], \"name\": [], \"latitude\": [], \"longitude\": []}\n",
    "\n",
    "for date in datelist:\n",
    "    #pull data from api for specified time period\n",
    "    response_API = requests.get(\"https://api.data.gov.sg/v1/environment/relative-humidity?date=\" + str(date))\n",
    "    data = response_API.text\n",
    "    parse_json = json.loads(data)\n",
    "\n",
    "    #Add readings to dictionary\n",
    "    for i in parse_json[\"items\"]:\n",
    "        for j in i[\"readings\"]:\n",
    "            readings[\"timestamp\"].append(i[\"timestamp\"])\n",
    "            readings[\"station_id\"].append(j[\"station_id\"])\n",
    "            readings[\"value\"].append(j[\"value\"])\n",
    "\n",
    "    #Add stations to dictionary\n",
    "    for x in parse_json[\"metadata\"][\"stations\"]:\n",
    "        stations[\"id\"].append(x[\"id\"])\n",
    "        stations[\"device_id\"].append(x[\"device_id\"])\n",
    "        stations[\"name\"].append(x[\"name\"])\n",
    "        stations[\"latitude\"].append(x[\"location\"][\"latitude\"])\n",
    "        stations[\"longitude\"].append(x[\"location\"][\"longitude\"])\n",
    "\n",
    "#create a dataframe from the dictionary\n",
    "readings_df = pd.DataFrame(readings)\n",
    "readings_df.index = np.arange(1, len(readings_df) + 1)\n",
    "#create a dataframe from the dictionary\n",
    "stations_df = pd.DataFrame(stations)\n",
    "stations_df.index = np.arange(1, len(stations_df) + 1)\n"
   ]
  },
  {
   "attachments": {},
   "cell_type": "markdown",
   "metadata": {},
   "source": [
    "Export to CSV"
   ]
  },
  {
   "cell_type": "code",
   "execution_count": null,
   "metadata": {},
   "outputs": [],
   "source": [
    "readings_df.to_csv(os.getcwd() + '\\\\readings_df' + f'_{start_date}.csv', header=True)\n",
    "stations_df.to_csv(os.getcwd() + '\\\\stations_df' + f'_{start_date}.csv', header=True)\n",
    "print(f\"Export completed! Files are in the path '{os.getcwd()}'.\")"
   ]
  }
 ],
 "metadata": {
  "kernelspec": {
   "display_name": "Python 3",
   "language": "python",
   "name": "python3"
  },
  "language_info": {
   "codemirror_mode": {
    "name": "ipython",
    "version": 3
   },
   "file_extension": ".py",
   "mimetype": "text/x-python",
   "name": "python",
   "nbconvert_exporter": "python",
   "pygments_lexer": "ipython3",
   "version": "3.11.1"
  },
  "orig_nbformat": 4,
  "vscode": {
   "interpreter": {
    "hash": "372598bb3a76118db91813843afe89c8df3fb3399f7ad048ff10a846cae40b20"
   }
  }
 },
 "nbformat": 4,
 "nbformat_minor": 2
}
