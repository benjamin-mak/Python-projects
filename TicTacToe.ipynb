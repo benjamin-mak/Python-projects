{
 "cells": [
  {
   "cell_type": "markdown",
   "metadata": {},
   "source": [
    "# TicTacToe Game\n",
    "\n",
    "### Instructions:\n",
    "* A classic game of tic tac toe between 2 players.\n",
    "* Players will take turns to input a position on the board.\n",
    "* The player to get three in a row wins!\n"
   ]
  },
  {
   "cell_type": "markdown",
   "metadata": {},
   "source": [
    "#### Outline of my approach:\n",
    "* Create a board to display\n",
    "* Ask players to choose to be 'X' or 'O'\n",
    "* Start the game, ask input from player 1 to choose a position on the board\n",
    "* Validate user input - check whether the position number is valid or whether it is already on the board\n",
    "* Print board with added symbol once validated\n",
    "* Repeat until the game ends. The game ends when one player obtains three in a row, or all the positions on the board are filled and it will be considered a draw.\n",
    "* Ask user input to play another game or not\n",
    "\n",
    "\n",
    "#### Functions needed:\n",
    "* display_board   -> displays the game board\n",
    "* player_type     -> asks the player to be 'X' or 'O'\n",
    "* player_start    -> Decide which player to start first\n",
    "* free_space      -> check whether a chosen position is available\n",
    "* position_choice -> asks players to choose a position and validates the input\n",
    "* player_wins     -> check whether a player wins after he inputs a position\n",
    "* full_board      -> checks whether the board is full \n",
    "* restart_game    -> asks player whether he wants to play a new game \n",
    "----"
   ]
  },
  {
   "cell_type": "markdown",
   "metadata": {},
   "source": [
    "## Functions"
   ]
  },
  {
   "cell_type": "markdown",
   "metadata": {},
   "source": [
    "Displaying the game board"
   ]
  },
  {
   "cell_type": "code",
   "execution_count": 2,
   "metadata": {},
   "outputs": [],
   "source": [
    "def display_board(board):\n",
    "    \n",
    "    print(board[7], '|', board[8], '|', board[9])\n",
    "    print('---------')\n",
    "    print(board[4], '|', board[5], '|', board[6])\n",
    "    print('---------')\n",
    "    print(board[1], '|', board[2], '|', board[3])"
   ]
  },
  {
   "cell_type": "code",
   "execution_count": 10,
   "metadata": {},
   "outputs": [
    {
     "name": "stdout",
     "output_type": "stream",
     "text": [
      "  |   |  \n",
      "---------\n",
      "  |   |  \n",
      "---------\n",
      "  |   |  \n"
     ]
    }
   ],
   "source": [
    "#Test the function\n",
    "board = ['#','X','O','X','O','X','O','X','O','X']\n",
    "empty_board = ['#',' ',' ',' ',' ',' ',' ',' ',' ',' ']\n",
    "\n",
    "display_board(empty_board)"
   ]
  },
  {
   "cell_type": "markdown",
   "metadata": {},
   "source": [
    "Assign players' names and ask them to choose to be 'X' or 'O'"
   ]
  },
  {
   "cell_type": "code",
   "execution_count": 3,
   "metadata": {},
   "outputs": [],
   "source": [
    "def player_type():\n",
    "    '''\n",
    "    Ask player to input 'X' or 'O'. Return string 'X' or 'O'.\n",
    "    '''\n",
    "    from IPython.display import clear_output\n",
    "    clear_output()\n",
    "    \n",
    "    marker = ''\n",
    "\n",
    "    while marker not in ['X', 'O']:\n",
    "        marker = input(\"Please choose to play as X or O: \")\n",
    "\n",
    "        if marker not in ['X','O']:\n",
    "            clear_output()\n",
    "            print(\"Sorry please input either X or O (case sensitive) only\")\n",
    "\n",
    "    return marker\n",
    "\n"
   ]
  },
  {
   "cell_type": "code",
   "execution_count": 12,
   "metadata": {},
   "outputs": [
    {
     "data": {
      "text/plain": [
       "'X'"
      ]
     },
     "execution_count": 12,
     "metadata": {},
     "output_type": "execute_result"
    }
   ],
   "source": [
    "#Test the function player_name()\n",
    "player_type()"
   ]
  },
  {
   "cell_type": "markdown",
   "metadata": {},
   "source": [
    "Decide which player to go first"
   ]
  },
  {
   "cell_type": "code",
   "execution_count": 4,
   "metadata": {},
   "outputs": [],
   "source": [
    "#function that randomly chooses whether player 1 or player 2 goes first\n",
    "def player_start(name1, name2):\n",
    "    if random.randint(1,2) == 1:\n",
    "        return name1 \n",
    "    else:\n",
    "        return name2\n"
   ]
  },
  {
   "cell_type": "markdown",
   "metadata": {},
   "source": [
    "Indicates whether a certain position on the board is available"
   ]
  },
  {
   "cell_type": "code",
   "execution_count": 5,
   "metadata": {},
   "outputs": [],
   "source": [
    "# Returns a boolean, true if the position is free\n",
    "def free_space(board, position):\n",
    "    return board[position] == ' '\n"
   ]
  },
  {
   "cell_type": "code",
   "execution_count": 2,
   "metadata": {},
   "outputs": [
    {
     "data": {
      "text/plain": [
       "True"
      ]
     },
     "execution_count": 2,
     "metadata": {},
     "output_type": "execute_result"
    }
   ],
   "source": [
    "#Test the function\n",
    "board = ['#',' ','O','X','O','X','O','X','O','X']\n",
    "free_space(board, 1)"
   ]
  },
  {
   "cell_type": "markdown",
   "metadata": {},
   "source": [
    "Position choice by player"
   ]
  },
  {
   "cell_type": "code",
   "execution_count": 6,
   "metadata": {},
   "outputs": [],
   "source": [
    "def position_choice(board):\n",
    "    '''\n",
    "    Ask the player to input a position between 1-9. Returns the position number as an integer.\n",
    "    '''\n",
    "    from IPython.display import clear_output\n",
    "      \n",
    "   \n",
    "    while True:\n",
    "        \n",
    "        \n",
    "        pos = input(\"Please choose a position on the board to place your marker (from 1-9):\")\n",
    "        if not pos.isdigit():\n",
    "            print(\"That is not a number\")\n",
    "            continue\n",
    "        else:\n",
    "            choice = int(pos)\n",
    "\n",
    "        # if the input is not within 1 to 9, keep asking the player for an input\n",
    "        if choice not in [1,2,3,4,5,6,7,8,9]:\n",
    "            #clear_output()\n",
    "            print(\"That is out of range! The positions are from 1-9.\")\n",
    "            continue\n",
    "\n",
    "        # check if the position is already printed on the board\n",
    "        elif not free_space(board, choice):\n",
    "            #clear_output()\n",
    "            print(\"That position has already been chosen! Please choose another position not shown on the board.\")\n",
    "            continue\n",
    "\n",
    "        else:\n",
    "            break\n",
    "\n",
    "        \n",
    "    return choice \n",
    "        \n",
    "    "
   ]
  },
  {
   "cell_type": "code",
   "execution_count": 17,
   "metadata": {},
   "outputs": [
    {
     "name": "stdout",
     "output_type": "stream",
     "text": [
      "That position has already been chosen! Please choose another position not shown on the board.\n"
     ]
    },
    {
     "data": {
      "text/plain": [
       "1"
      ]
     },
     "execution_count": 17,
     "metadata": {},
     "output_type": "execute_result"
    }
   ],
   "source": [
    "# Function check\n",
    "board = ['#',' ','O','X','O','X','O','X','O','X']\n",
    "position_choice(board)"
   ]
  },
  {
   "cell_type": "markdown",
   "metadata": {},
   "source": [
    "Check whether a player wins"
   ]
  },
  {
   "cell_type": "code",
   "execution_count": 7,
   "metadata": {},
   "outputs": [],
   "source": [
    "# Return True if the player wins or False if there is no winner\n",
    "# Check all rows, columns and diagonals\n",
    "def player_wins(board, marker):\n",
    "    return board[1] == board[2] == board[3] == marker or board[4] == board[5] == board[6] == marker or board[7] == board[8] == board[9] == marker or board[1] == board[4] == board[7] == marker or board[2] == board[3] == board[8] == marker or board[3] == board[6] == board[9] == marker or board[1] == board[5] == board[9] == marker or board[3] == board[5] == board[7] == marker\n",
    "        \n"
   ]
  },
  {
   "cell_type": "code",
   "execution_count": null,
   "metadata": {},
   "outputs": [],
   "source": [
    "#Function check\n",
    "board = ['#','X','O','X','O','X','O','X','O','X']\n",
    "player_wins(board, 'X')"
   ]
  },
  {
   "cell_type": "markdown",
   "metadata": {},
   "source": [
    "Check whether board is full"
   ]
  },
  {
   "cell_type": "code",
   "execution_count": 8,
   "metadata": {},
   "outputs": [],
   "source": [
    "#return a boolean if the game board is full or not. Returns true if board is full.\n",
    "def full_board(board):\n",
    "\n",
    "    for i in range(1,10):\n",
    "        if free_space(board, i):\n",
    "            return False\n",
    "    return True\n"
   ]
  },
  {
   "cell_type": "code",
   "execution_count": 14,
   "metadata": {},
   "outputs": [
    {
     "data": {
      "text/plain": [
       "True"
      ]
     },
     "execution_count": 14,
     "metadata": {},
     "output_type": "execute_result"
    }
   ],
   "source": [
    "#Function check\n",
    "board = ['#','X','O','X','O','X','O','X','O','X']\n",
    "empty_board = ['#',' ',' ',' ','X',' ',' ',' ',' ',' ']\n",
    "\n",
    "full_board(board)\n"
   ]
  },
  {
   "cell_type": "markdown",
   "metadata": {},
   "source": [
    "Play another game"
   ]
  },
  {
   "cell_type": "code",
   "execution_count": 9,
   "metadata": {},
   "outputs": [],
   "source": [
    "# ask players if they would like to continue and play another game\n",
    "def restart_game():\n",
    "    # Asks the player if they want to play another game and return True if yes and False if no \n",
    "\n",
    "    choice = 'wrong'\n",
    "\n",
    "    while choice not in ['Yes', 'No']:\n",
    "        choice = input(\"Do you want to play another game? Type 'Yes' or 'No'\")\n",
    "\n",
    "        if choice not in ['Yes', 'No']:\n",
    "            print(\"Please type either Yes or No\")\n",
    "        \n",
    "    return choice == 'Yes'\n",
    "    \n",
    " \n"
   ]
  },
  {
   "cell_type": "markdown",
   "metadata": {},
   "source": [
    "----\n",
    "## Code for running the whole game"
   ]
  },
  {
   "attachments": {},
   "cell_type": "markdown",
   "metadata": {},
   "source": [
    "#### Planning and outline of code\n",
    "\n",
    "#While loop to keep the game continuously running\n",
    "\n",
    "        #Print instructions for game\n",
    "\n",
    "        #Ask for player's details: Name/ to be X or O\n",
    "\n",
    "        #Decide which player starts first, need a counter to decide whose turn it is\n",
    "\n",
    "        #While no one wins and board is not full, run the game\n",
    "\n",
    "            #If player1 starts first\n",
    "\n",
    "                #Ask player1 for position input and print board\n",
    "                #Check whether player1 wins or the game is a draw\n",
    "                #If no tie and no win, then change to player2 turn\n",
    "\n",
    "            #If player2 starts first\n",
    "\n",
    "                #Ask player2 for position input and print board\n",
    "                #Check whether player2 wins or game is a draw\n",
    "                #If no tie and no win, then change to player1 turn\n",
    "\n",
    "        #Something to break the loop -> ask player if they want to play a new game"
   ]
  },
  {
   "cell_type": "code",
   "execution_count": 10,
   "metadata": {},
   "outputs": [
    {
     "name": "stdout",
     "output_type": "stream",
     "text": [
      "O | O | X\n",
      "---------\n",
      "X | X | O\n",
      "---------\n",
      "O | X | X\n",
      "No more spaces available. It is a tie!\n"
     ]
    }
   ],
   "source": [
    "import random  \n",
    "from IPython.display import clear_output\n",
    "clear_output()\n",
    "\n",
    "#loop to keep the game running\n",
    "while True:\n",
    "#Instructions and rules for the game\n",
    "    clear_output()\n",
    "    print(\"Are you ready to play Tic Tac Toe?\")\n",
    "    print(\"The game board will look like this:\")\n",
    "    empty_board = ['#','1','2','3','4','5','6','7','8','9']\n",
    "    display_board(empty_board)\n",
    "    print(\"Choose a number that corresponds with the position that you want.\")\n",
    "    print(\"Let's play!\")\n",
    "    \n",
    "    #Game will start with an empty board\n",
    "    board = ['#',' ',' ',' ',' ',' ',' ',' ',' ',' ']\n",
    "    \n",
    "    #Input player details\n",
    "    name1 = input(\"Please enter your name for player 1:\")\n",
    "    type1 = player_type()\n",
    "    name2 = input(\"Please enter your name for player 2:\")\n",
    "    if type1 == 'X':\n",
    "        type2 = 'O' \n",
    "    if type1 =='O':\n",
    "        type2 = 'X' \n",
    "    print(f'Player 1: {name1}, you are {type1}')\n",
    "    print(f'Player 2: {name2}, you are {type2}')\n",
    "\n",
    "    #Decide who starts the game first\n",
    "    turn = player_start(name1, name2)\n",
    "\n",
    "    #while the board isn't full and there is no winner yet\n",
    "    game_on = (not full_board(board)) and (not player_wins(board, type1)) and (not player_wins(board, type2))\n",
    "    while game_on:\n",
    "\n",
    "        #Player 1 turn       \n",
    "        if turn == name1:\n",
    "            print(f\"{name1} ({type1}), it is your turn!\")\n",
    "            \n",
    "            # Ask player1 to input his position choice\n",
    "            # Update and display the game board\n",
    "            position = position_choice(board)\n",
    "            board[position] = type1\n",
    "            clear_output()\n",
    "            display_board(board)\n",
    "\n",
    "            #Check whether board is full or a player wins\n",
    "            if player_wins(board, type1):\n",
    "                print(f\"{name1} WINS!\")\n",
    "                game_on = False\n",
    "            elif full_board(board):\n",
    "                print(\"No more spaces available. It is a tie!\")\n",
    "                game_on = False\n",
    "            else:\n",
    "                turn = name2\n",
    "\n",
    "\n",
    "        # Player 2 turn\n",
    "        else: \n",
    "            turn == name2\n",
    "            print(f\"{name2} ({type2}), it is your turn!\")\n",
    "            \n",
    "            # Ask player2 to input his position choice\n",
    "            # Update and display the game board\n",
    "            position = position_choice(board)  \n",
    "            board[position] = type2 \n",
    "            clear_output()\n",
    "            display_board(board)\n",
    "\n",
    "            #Check whether board is full or a player wins\n",
    "            if player_wins(board, type2):\n",
    "                print(f\"{name2} WINS!\")\n",
    "                game_on = False\n",
    "            elif full_board(board):\n",
    "                print(\"No more spaces available. It is a tie!\")\n",
    "                game_on = False\n",
    "            else:\n",
    "                turn = name1\n",
    "\n",
    "    #Ends loop if the player does not want to play another game    \n",
    "    if not restart_game():\n",
    "        break\n",
    "            \n",
    "\n",
    "\n"
   ]
  },
  {
   "cell_type": "markdown",
   "metadata": {},
   "source": [
    "#### Checks\n",
    "\n",
    "* Check player 1 wins\n",
    "* Check player 2 wins\n",
    "* Check for tie game\n",
    "* Check that the game will restart and a 'Yes' input "
   ]
  }
 ],
 "metadata": {
  "kernelspec": {
   "display_name": "Python 3.10.4 64-bit",
   "language": "python",
   "name": "python3"
  },
  "language_info": {
   "codemirror_mode": {
    "name": "ipython",
    "version": 3
   },
   "file_extension": ".py",
   "mimetype": "text/x-python",
   "name": "python",
   "nbconvert_exporter": "python",
   "pygments_lexer": "ipython3",
   "version": "3.10.4 (tags/v3.10.4:9d38120, Mar 23 2022, 23:13:41) [MSC v.1929 64 bit (AMD64)]"
  },
  "orig_nbformat": 4,
  "vscode": {
   "interpreter": {
    "hash": "81f6f4df94370f5d3dcc4cbb7b1e58e2efae512c9cfb5d270db97658b3f775ee"
   }
  }
 },
 "nbformat": 4,
 "nbformat_minor": 2
}
