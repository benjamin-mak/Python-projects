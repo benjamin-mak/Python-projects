{
 "cells": [
  {
   "cell_type": "markdown",
   "metadata": {},
   "source": [
    "# Guessing game \n",
    "This program will pick a random integer between two boundary numbers and a player will try to guess the number.\n",
    "\n",
    "We will use 1 and 100 as the boundaries.\n",
    "\n",
    "\n",
    "\n"
   ]
  },
  {
   "cell_type": "markdown",
   "metadata": {},
   "source": [
    "Functions needed:\n",
    "* Function that generates a random integer\n",
    "* Function asking player to input a number\n",
    "* Function to ask to play another game\n",
    "\n"
   ]
  },
  {
   "cell_type": "markdown",
   "metadata": {},
   "source": [
    "Outline of code\n",
    "\n",
    "#while loop to keep the game running\n",
    "\n",
    "        #print instructions\n",
    "\n",
    "        #Pick a random number for the player to guess\n",
    "\n",
    "        #while player has not guess the correct number\n",
    "\n",
    "            #ask player to input a guess\n",
    "            #check whether guess is correct\n",
    "            #if correct, print out how many guesses it took\n",
    "            #if not print the new range which the number is between\n",
    "\n",
    "\n",
    "        #something to break out of the loop\n",
    "\n",
    "\n"
   ]
  },
  {
   "cell_type": "markdown",
   "metadata": {},
   "source": [
    "----\n",
    "### Functions"
   ]
  },
  {
   "cell_type": "markdown",
   "metadata": {},
   "source": [
    "Random number "
   ]
  },
  {
   "cell_type": "code",
   "execution_count": 1,
   "metadata": {},
   "outputs": [],
   "source": [
    "#return a random number between 1 and 100 for the player to guess\n",
    "def random_num():\n",
    "    import random\n",
    "    return random.randint(1,100)\n"
   ]
  },
  {
   "cell_type": "markdown",
   "metadata": {},
   "source": [
    "Player to guess the number"
   ]
  },
  {
   "cell_type": "code",
   "execution_count": 2,
   "metadata": {},
   "outputs": [],
   "source": [
    "def guess(lower, upper):\n",
    "    from IPython.display import clear_output\n",
    "    \n",
    "    num = 0\n",
    "    while num not in range(lower, upper + 1):\n",
    "        num = int(input(f\"Please guess a number from {lower} to {upper}\"))\n",
    "\n",
    "        if num not in range(lower, upper + 1):\n",
    "           \n",
    "            print(\"That is not within range!\")\n",
    "    \n",
    "    return num \n",
    " \n",
    "    "
   ]
  },
  {
   "cell_type": "code",
   "execution_count": 3,
   "metadata": {},
   "outputs": [
    {
     "data": {
      "text/plain": [
       "1"
      ]
     },
     "execution_count": 3,
     "metadata": {},
     "output_type": "execute_result"
    }
   ],
   "source": [
    "#function test\n",
    "guess(1,100)"
   ]
  },
  {
   "cell_type": "markdown",
   "metadata": {},
   "source": [
    "Play another game"
   ]
  },
  {
   "cell_type": "code",
   "execution_count": 4,
   "metadata": {},
   "outputs": [],
   "source": [
    "def play_again():\n",
    "    choice =''\n",
    "\n",
    "    while choice not in ['yes','no']:\n",
    "        choice = input(\"Do you want to play again? Type yes or no\").lower()\n",
    "    \n",
    "    return choice == 'yes'\n",
    "\n"
   ]
  },
  {
   "cell_type": "markdown",
   "metadata": {},
   "source": [
    "### Code for running the game"
   ]
  },
  {
   "cell_type": "code",
   "execution_count": 5,
   "metadata": {},
   "outputs": [
    {
     "name": "stdout",
     "output_type": "stream",
     "text": [
      "Welcome to the guessing game! A random number from 1 to 100 inclusive is chosen, try to guess it!\n",
      "The correct number is from 4 to 100.\n",
      "That is not within range!\n",
      "The correct number is from 5 to 100.\n",
      "The correct number is from 5 to 50.\n",
      "The correct number is from 5 to 41.\n",
      "The correct number is from 5 to 34.\n",
      "The correct number is from 18 to 34.\n",
      "The correct number is from 18 to 25.\n",
      "The correct number is from 20 to 25.\n",
      "That's right! 22 is the correct number! You guessed it in 9 tries.\n"
     ]
    }
   ],
   "source": [
    "from IPython.display import clear_output\n",
    "\n",
    "while True:\n",
    "    clear_output()\n",
    "    #print instructions\n",
    "    print(\"Welcome to the guessing game! A random number from 1 to 100 inclusive is chosen, try to guess it!\")\n",
    "\n",
    "    #Pick a random number for the player to guess\n",
    "    correct_num = random_num()\n",
    "    player_guess = 0 \n",
    "    lower = 1\n",
    "    upper = 100\n",
    "    count = 0 \n",
    "\n",
    "    #while player has not guess the correct number\n",
    "    while player_guess != correct_num:\n",
    "\n",
    "        #ask player to input a guess\n",
    "        player_guess = guess(lower, upper)\n",
    "        count += 1\n",
    "        if player_guess in range(lower, correct_num):\n",
    "            lower = player_guess\n",
    "        else:\n",
    "            upper = player_guess\n",
    "        \n",
    "        #check whether guess is correct\n",
    "        #if correct, print out how many guesses it took\n",
    "        if player_guess == correct_num:\n",
    "            print(f\"That's right! {correct_num} is the correct number! You guessed it in {count} tries.\")  \n",
    "            break\n",
    "       \n",
    "        #if not print the new range which the number is between\n",
    "        print(f\"The correct number is from {lower} to {upper}.\")\n",
    "\n",
    "    #something to break out of the loop\n",
    "    if not play_again():\n",
    "        break\n"
   ]
  }
 ],
 "metadata": {
  "kernelspec": {
   "display_name": "Python 3.10.4 64-bit",
   "language": "python",
   "name": "python3"
  },
  "language_info": {
   "codemirror_mode": {
    "name": "ipython",
    "version": 3
   },
   "file_extension": ".py",
   "mimetype": "text/x-python",
   "name": "python",
   "nbconvert_exporter": "python",
   "pygments_lexer": "ipython3",
   "version": "3.10.4"
  },
  "orig_nbformat": 4,
  "vscode": {
   "interpreter": {
    "hash": "81f6f4df94370f5d3dcc4cbb7b1e58e2efae512c9cfb5d270db97658b3f775ee"
   }
  }
 },
 "nbformat": 4,
 "nbformat_minor": 2
}
